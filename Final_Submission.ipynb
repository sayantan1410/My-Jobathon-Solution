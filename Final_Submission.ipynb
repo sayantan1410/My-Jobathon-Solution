{
  "nbformat": 4,
  "nbformat_minor": 0,
  "metadata": {
    "colab": {
      "name": "Final Submission.ipynb",
      "provenance": []
    },
    "kernelspec": {
      "name": "python3",
      "display_name": "Python 3"
    },
    "language_info": {
      "name": "python"
    }
  },
  "cells": [
    {
      "cell_type": "code",
      "metadata": {
        "colab": {
          "base_uri": "https://localhost:8080/"
        },
        "id": "nvMVk6OpdWaf",
        "outputId": "6ddd6e4f-432b-4608-a11f-b46e04b7b42c"
      },
      "source": [
        "from google.colab import drive\n",
        "\n",
        "drive.mount('/content/gdrive')"
      ],
      "execution_count": null,
      "outputs": [
        {
          "output_type": "stream",
          "text": [
            "Mounted at /content/gdrive\n"
          ],
          "name": "stdout"
        }
      ]
    },
    {
      "cell_type": "code",
      "metadata": {
        "id": "LpOxMMbUeMwf"
      },
      "source": [
        "import pandas as pd\n",
        "import numpy as np\n",
        "train = pd.read_csv('train.csv')\n",
        "test = pd.read_csv('test.csv')"
      ],
      "execution_count": null,
      "outputs": []
    },
    {
      "cell_type": "code",
      "metadata": {
        "colab": {
          "base_uri": "https://localhost:8080/",
          "height": 391
        },
        "id": "CfiBcYqUedLd",
        "outputId": "35920a9a-4cae-41e1-88bb-2d14875e6260"
      },
      "source": [
        "from sklearn.preprocessing import LabelEncoder\n",
        "\n",
        "columns = ['ID','Gender','Region_Code','Occupation','Channel_Code','Is_Active']\n",
        "for c in columns: \n",
        "  if train[c].dtype=='object': \n",
        "        lbl = LabelEncoder()\n",
        "        lbl.fit(list(train[c].values) + list(test[c].values))\n",
        "        train[c] = lbl.transform(train[c].values)\n",
        "        test[c] = lbl.transform(test[c].values)\n",
        "\n",
        "display(train.head())\n",
        "display(test.head())"
      ],
      "execution_count": null,
      "outputs": [
        {
          "output_type": "display_data",
          "data": {
            "text/html": [
              "<div>\n",
              "<style scoped>\n",
              "    .dataframe tbody tr th:only-of-type {\n",
              "        vertical-align: middle;\n",
              "    }\n",
              "\n",
              "    .dataframe tbody tr th {\n",
              "        vertical-align: top;\n",
              "    }\n",
              "\n",
              "    .dataframe thead th {\n",
              "        text-align: right;\n",
              "    }\n",
              "</style>\n",
              "<table border=\"1\" class=\"dataframe\">\n",
              "  <thead>\n",
              "    <tr style=\"text-align: right;\">\n",
              "      <th></th>\n",
              "      <th>ID</th>\n",
              "      <th>Gender</th>\n",
              "      <th>Age</th>\n",
              "      <th>Region_Code</th>\n",
              "      <th>Occupation</th>\n",
              "      <th>Channel_Code</th>\n",
              "      <th>Vintage</th>\n",
              "      <th>Credit_Product</th>\n",
              "      <th>Avg_Account_Balance</th>\n",
              "      <th>Is_Active</th>\n",
              "      <th>Is_Lead</th>\n",
              "    </tr>\n",
              "  </thead>\n",
              "  <tbody>\n",
              "    <tr>\n",
              "      <th>0</th>\n",
              "      <td>255836</td>\n",
              "      <td>0</td>\n",
              "      <td>73</td>\n",
              "      <td>18</td>\n",
              "      <td>1</td>\n",
              "      <td>2</td>\n",
              "      <td>43</td>\n",
              "      <td>No</td>\n",
              "      <td>1045696</td>\n",
              "      <td>0</td>\n",
              "      <td>0</td>\n",
              "    </tr>\n",
              "    <tr>\n",
              "      <th>1</th>\n",
              "      <td>187146</td>\n",
              "      <td>0</td>\n",
              "      <td>30</td>\n",
              "      <td>27</td>\n",
              "      <td>2</td>\n",
              "      <td>0</td>\n",
              "      <td>32</td>\n",
              "      <td>No</td>\n",
              "      <td>581988</td>\n",
              "      <td>0</td>\n",
              "      <td>0</td>\n",
              "    </tr>\n",
              "    <tr>\n",
              "      <th>2</th>\n",
              "      <td>173604</td>\n",
              "      <td>0</td>\n",
              "      <td>56</td>\n",
              "      <td>18</td>\n",
              "      <td>3</td>\n",
              "      <td>2</td>\n",
              "      <td>26</td>\n",
              "      <td>No</td>\n",
              "      <td>1484315</td>\n",
              "      <td>1</td>\n",
              "      <td>0</td>\n",
              "    </tr>\n",
              "    <tr>\n",
              "      <th>3</th>\n",
              "      <td>81840</td>\n",
              "      <td>1</td>\n",
              "      <td>34</td>\n",
              "      <td>20</td>\n",
              "      <td>2</td>\n",
              "      <td>0</td>\n",
              "      <td>19</td>\n",
              "      <td>No</td>\n",
              "      <td>470454</td>\n",
              "      <td>0</td>\n",
              "      <td>0</td>\n",
              "    </tr>\n",
              "    <tr>\n",
              "      <th>4</th>\n",
              "      <td>299455</td>\n",
              "      <td>0</td>\n",
              "      <td>30</td>\n",
              "      <td>32</td>\n",
              "      <td>2</td>\n",
              "      <td>0</td>\n",
              "      <td>33</td>\n",
              "      <td>No</td>\n",
              "      <td>886787</td>\n",
              "      <td>0</td>\n",
              "      <td>0</td>\n",
              "    </tr>\n",
              "  </tbody>\n",
              "</table>\n",
              "</div>"
            ],
            "text/plain": [
              "       ID  Gender  Age  ...  Avg_Account_Balance  Is_Active  Is_Lead\n",
              "0  255836       0   73  ...              1045696          0        0\n",
              "1  187146       0   30  ...               581988          0        0\n",
              "2  173604       0   56  ...              1484315          1        0\n",
              "3   81840       1   34  ...               470454          0        0\n",
              "4  299455       0   30  ...               886787          0        0\n",
              "\n",
              "[5 rows x 11 columns]"
            ]
          },
          "metadata": {
            "tags": []
          }
        },
        {
          "output_type": "display_data",
          "data": {
            "text/html": [
              "<div>\n",
              "<style scoped>\n",
              "    .dataframe tbody tr th:only-of-type {\n",
              "        vertical-align: middle;\n",
              "    }\n",
              "\n",
              "    .dataframe tbody tr th {\n",
              "        vertical-align: top;\n",
              "    }\n",
              "\n",
              "    .dataframe thead th {\n",
              "        text-align: right;\n",
              "    }\n",
              "</style>\n",
              "<table border=\"1\" class=\"dataframe\">\n",
              "  <thead>\n",
              "    <tr style=\"text-align: right;\">\n",
              "      <th></th>\n",
              "      <th>ID</th>\n",
              "      <th>Gender</th>\n",
              "      <th>Age</th>\n",
              "      <th>Region_Code</th>\n",
              "      <th>Occupation</th>\n",
              "      <th>Channel_Code</th>\n",
              "      <th>Vintage</th>\n",
              "      <th>Credit_Product</th>\n",
              "      <th>Avg_Account_Balance</th>\n",
              "      <th>Is_Active</th>\n",
              "    </tr>\n",
              "  </thead>\n",
              "  <tbody>\n",
              "    <tr>\n",
              "      <th>0</th>\n",
              "      <td>314009</td>\n",
              "      <td>1</td>\n",
              "      <td>29</td>\n",
              "      <td>4</td>\n",
              "      <td>1</td>\n",
              "      <td>0</td>\n",
              "      <td>25</td>\n",
              "      <td>Yes</td>\n",
              "      <td>742366</td>\n",
              "      <td>0</td>\n",
              "    </tr>\n",
              "    <tr>\n",
              "      <th>1</th>\n",
              "      <td>96047</td>\n",
              "      <td>1</td>\n",
              "      <td>43</td>\n",
              "      <td>18</td>\n",
              "      <td>1</td>\n",
              "      <td>1</td>\n",
              "      <td>49</td>\n",
              "      <td>NaN</td>\n",
              "      <td>925537</td>\n",
              "      <td>0</td>\n",
              "    </tr>\n",
              "    <tr>\n",
              "      <th>2</th>\n",
              "      <td>316206</td>\n",
              "      <td>1</td>\n",
              "      <td>31</td>\n",
              "      <td>20</td>\n",
              "      <td>2</td>\n",
              "      <td>0</td>\n",
              "      <td>14</td>\n",
              "      <td>No</td>\n",
              "      <td>215949</td>\n",
              "      <td>0</td>\n",
              "    </tr>\n",
              "    <tr>\n",
              "      <th>3</th>\n",
              "      <td>303077</td>\n",
              "      <td>1</td>\n",
              "      <td>29</td>\n",
              "      <td>22</td>\n",
              "      <td>1</td>\n",
              "      <td>0</td>\n",
              "      <td>33</td>\n",
              "      <td>No</td>\n",
              "      <td>868070</td>\n",
              "      <td>0</td>\n",
              "    </tr>\n",
              "    <tr>\n",
              "      <th>4</th>\n",
              "      <td>292640</td>\n",
              "      <td>0</td>\n",
              "      <td>29</td>\n",
              "      <td>20</td>\n",
              "      <td>1</td>\n",
              "      <td>0</td>\n",
              "      <td>19</td>\n",
              "      <td>No</td>\n",
              "      <td>657087</td>\n",
              "      <td>0</td>\n",
              "    </tr>\n",
              "  </tbody>\n",
              "</table>\n",
              "</div>"
            ],
            "text/plain": [
              "       ID  Gender  Age  ...  Credit_Product  Avg_Account_Balance  Is_Active\n",
              "0  314009       1   29  ...             Yes               742366          0\n",
              "1   96047       1   43  ...             NaN               925537          0\n",
              "2  316206       1   31  ...              No               215949          0\n",
              "3  303077       1   29  ...              No               868070          0\n",
              "4  292640       0   29  ...              No               657087          0\n",
              "\n",
              "[5 rows x 10 columns]"
            ]
          },
          "metadata": {
            "tags": []
          }
        }
      ]
    },
    {
      "cell_type": "code",
      "metadata": {
        "id": "_aJHEitYfZ1V"
      },
      "source": [
        "train['Credit_Product'] = train['Credit_Product'].replace(['Yes','No'],[1,0])\n",
        "test['Credit_Product'] = test['Credit_Product'].replace(['Yes','No'],[1,0])"
      ],
      "execution_count": null,
      "outputs": []
    },
    {
      "cell_type": "code",
      "metadata": {
        "id": "OihLd2BSgKTF"
      },
      "source": [
        "target = train.pop('Is_Lead')\n",
        "from sklearn.model_selection import train_test_split\n",
        "X_train,X_test,y_train,y_test = train_test_split(train,target,test_size = 0.1)"
      ],
      "execution_count": null,
      "outputs": []
    },
    {
      "cell_type": "code",
      "metadata": {
        "id": "Oyg6Y3P0gvHE",
        "colab": {
          "base_uri": "https://localhost:8080/"
        },
        "outputId": "9a46f07e-a1a0-4ac6-f620-f703f6f3a7fa"
      },
      "source": [
        "\n",
        "params={'bagging_freq': 1, 'reg_alpha': 0.0019599943581399, 'reg_lambda': 0.028564643120722513, 'colsample_bytree': 0.24,\n",
        "     'subsample': 0.8, 'learning_rate': 0.008, 'max_depth': 140, 'num_leaves': 100, 'min_child_samples': 228, 'max_bin': 238,\n",
        "     'cat_smooth': 75,'metric': 'auc', 'random_state': 48,'n_estimators': 2000}\n",
        "test_pred1 = np.zeros(len(test))\n",
        "auc_1 = []\n",
        "from lightgbm import LGBMClassifier\n",
        "from sklearn.metrics import roc_auc_score\n",
        "from sklearn.model_selection import StratifiedKFold\n",
        "kf = StratifiedKFold(n_splits=100)\n",
        "for train_index, test_index in kf.split(train,target):\n",
        "    X_train, X_test = train.iloc[train_index], train.iloc[test_index]\n",
        "    y_train, y_test = target.iloc[train_index],target.iloc[test_index]\n",
        "    lgbm = LGBMClassifier()\n",
        "    lgbm.fit(X_train,y_train)\n",
        "    preds = lgbm.predict_proba(X_test)[:,1]\n",
        "    auc = roc_auc_score(y_test,preds)\n",
        "    auc_1.append(auc)\n",
        "    test_pred1 += (lgbm.predict_proba(test)[:,1])/kf.n_splits\n",
        "np.mean(auc_1)"
      ],
      "execution_count": null,
      "outputs": [
        {
          "output_type": "execute_result",
          "data": {
            "text/plain": [
              "0.8737521679109199"
            ]
          },
          "metadata": {
            "tags": []
          },
          "execution_count": 25
        }
      ]
    },
    {
      "cell_type": "code",
      "metadata": {
        "colab": {
          "base_uri": "https://localhost:8080/"
        },
        "id": "fr5UfJRppWIy",
        "outputId": "00847f43-eb36-42bd-b4ca-87619ffef23d"
      },
      "source": [
        "from lightgbm import LGBMClassifier\n",
        "from sklearn.metrics import roc_auc_score\n",
        "from sklearn.model_selection import StratifiedKFold\n",
        "test_pred2 = np.zeros(len(test))\n",
        "auc_2 = []\n",
        "kf = StratifiedKFold(n_splits=50)\n",
        "for train_index, test_index in kf.split(train,target):\n",
        "    X_train, X_test = train.iloc[train_index], train.iloc[test_index]\n",
        "    y_train, y_test = target.iloc[train_index],target.iloc[test_index]\n",
        "    clf = LGBMClassifier()\n",
        "    clf.fit(X_train,y_train)\n",
        "    preds = clf.predict_proba(X_test)[:,1]\n",
        "    auc = roc_auc_score(y_test,preds)\n",
        "    test_pred2 += (lgbm.predict_proba(test)[:,1])/kf.n_splits\n",
        "    auc_2.append(auc)\n",
        "np.mean(auc_2)"
      ],
      "execution_count": null,
      "outputs": [
        {
          "output_type": "execute_result",
          "data": {
            "text/plain": [
              "0.873790990292515"
            ]
          },
          "metadata": {
            "tags": []
          },
          "execution_count": 26
        }
      ]
    },
    {
      "cell_type": "code",
      "metadata": {
        "id": "W8Z2KDIchgFB"
      },
      "source": [
        "print(auc)"
      ],
      "execution_count": null,
      "outputs": []
    },
    {
      "cell_type": "code",
      "metadata": {
        "id": "JnJj4YQ_i6sc"
      },
      "source": [
        "test_pred = ((2*(test_pred1))+test_pred2)/3"
      ],
      "execution_count": null,
      "outputs": []
    },
    {
      "cell_type": "markdown",
      "metadata": {
        "id": "9f8dU66kR2mz"
      },
      "source": [
        "Auc with baseline lightgbm model - 0.8791842836418373\n",
        "\n",
        "Auc with lightgbm and simple training - 0.8781330198896204"
      ]
    },
    {
      "cell_type": "code",
      "metadata": {
        "id": "rBbw0C0ZjQxY"
      },
      "source": [
        "sample_submision = pd.read_csv('sample_submission.csv',index_col='ID')"
      ],
      "execution_count": null,
      "outputs": []
    },
    {
      "cell_type": "code",
      "metadata": {
        "id": "IGzO5p1XjnmA"
      },
      "source": [
        "sample_submision.head()"
      ],
      "execution_count": null,
      "outputs": []
    },
    {
      "cell_type": "code",
      "metadata": {
        "colab": {
          "base_uri": "https://localhost:8080/",
          "height": 235
        },
        "id": "-XJrQuemjeYW",
        "outputId": "df0e1bd1-ba53-41b1-fd77-03227db15935"
      },
      "source": [
        "sample_submision['Is_Lead'] = test_pred\n",
        "sample_submision.head()"
      ],
      "execution_count": null,
      "outputs": [
        {
          "output_type": "execute_result",
          "data": {
            "text/html": [
              "<div>\n",
              "<style scoped>\n",
              "    .dataframe tbody tr th:only-of-type {\n",
              "        vertical-align: middle;\n",
              "    }\n",
              "\n",
              "    .dataframe tbody tr th {\n",
              "        vertical-align: top;\n",
              "    }\n",
              "\n",
              "    .dataframe thead th {\n",
              "        text-align: right;\n",
              "    }\n",
              "</style>\n",
              "<table border=\"1\" class=\"dataframe\">\n",
              "  <thead>\n",
              "    <tr style=\"text-align: right;\">\n",
              "      <th></th>\n",
              "      <th>Is_Lead</th>\n",
              "    </tr>\n",
              "    <tr>\n",
              "      <th>ID</th>\n",
              "      <th></th>\n",
              "    </tr>\n",
              "  </thead>\n",
              "  <tbody>\n",
              "    <tr>\n",
              "      <th>VBENBARO</th>\n",
              "      <td>0.041791</td>\n",
              "    </tr>\n",
              "    <tr>\n",
              "      <th>CCMEWNKY</th>\n",
              "      <td>0.865215</td>\n",
              "    </tr>\n",
              "    <tr>\n",
              "      <th>VK3KGA9M</th>\n",
              "      <td>0.054955</td>\n",
              "    </tr>\n",
              "    <tr>\n",
              "      <th>TT8RPZVC</th>\n",
              "      <td>0.022972</td>\n",
              "    </tr>\n",
              "    <tr>\n",
              "      <th>SHQZEYTZ</th>\n",
              "      <td>0.023274</td>\n",
              "    </tr>\n",
              "  </tbody>\n",
              "</table>\n",
              "</div>"
            ],
            "text/plain": [
              "           Is_Lead\n",
              "ID                \n",
              "VBENBARO  0.041791\n",
              "CCMEWNKY  0.865215\n",
              "VK3KGA9M  0.054955\n",
              "TT8RPZVC  0.022972\n",
              "SHQZEYTZ  0.023274"
            ]
          },
          "metadata": {
            "tags": []
          },
          "execution_count": 32
        }
      ]
    },
    {
      "cell_type": "code",
      "metadata": {
        "id": "8kUINBrjjt0C"
      },
      "source": [
        "sample_submision.to_csv('final_submission3.csv')"
      ],
      "execution_count": null,
      "outputs": []
    }
  ]
}